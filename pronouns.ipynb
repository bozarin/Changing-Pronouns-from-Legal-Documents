{
  "nbformat": 4,
  "nbformat_minor": 0,
  "metadata": {
    "colab": {
      "name": "pronouns.ipynb",
      "provenance": [],
      "collapsed_sections": [],
      "include_colab_link": true
    },
    "kernelspec": {
      "name": "python3",
      "display_name": "Python 3"
    }
  },
  "cells": [
    {
      "cell_type": "markdown",
      "metadata": {
        "id": "view-in-github",
        "colab_type": "text"
      },
      "source": [
        "<a href=\"https://colab.research.google.com/github/bozarin/Changing-Pronouns-from-Legal-Documents/blob/main/pronouns.ipynb\" target=\"_parent\"><img src=\"https://colab.research.google.com/assets/colab-badge.svg\" alt=\"Open In Colab\"/></a>"
      ]
    },
    {
      "cell_type": "markdown",
      "metadata": {
        "id": "lUcYfUtDzblb"
      },
      "source": [
        "# Changing Pronouns from Legal Documents\n",
        "First we import the packages we need:\n",
        "\n",
        "- BeautifulSoup: This is used to extract information from webpages\n",
        "- Requests: However, before we can extract information, we need to get the webpage. Requests is used for that\n",
        "- NLTK: This is used for al NLP related tasks like Parts of Speech Tagging."
      ]
    },
    {
      "cell_type": "code",
      "metadata": {
        "id": "Igw0Ern86c9H",
        "colab": {
          "base_uri": "https://localhost:8080/"
        },
        "outputId": "d82194ec-32c5-44a8-be88-52569b776d7c"
      },
      "source": [
        "from bs4 import BeautifulSoup\n",
        "import requests\n",
        "import nltk\n",
        "nltk.download('punkt')\n",
        "nltk.download('averaged_perceptron_tagger')"
      ],
      "execution_count": null,
      "outputs": [
        {
          "output_type": "stream",
          "text": [
            "[nltk_data] Downloading package punkt to /root/nltk_data...\n",
            "[nltk_data]   Unzipping tokenizers/punkt.zip.\n",
            "[nltk_data] Downloading package averaged_perceptron_tagger to\n",
            "[nltk_data]     /root/nltk_data...\n",
            "[nltk_data]   Unzipping taggers/averaged_perceptron_tagger.zip.\n"
          ],
          "name": "stdout"
        },
        {
          "output_type": "execute_result",
          "data": {
            "text/plain": [
              "True"
            ]
          },
          "metadata": {
            "tags": []
          },
          "execution_count": 1
        }
      ]
    },
    {
      "cell_type": "markdown",
      "metadata": {
        "id": "HIjqACav5-2t"
      },
      "source": [
        "# Step 1: Get Webpage and Scrape it\n",
        "\n",
        "First we will request the webpage we want to edit using the `requests` library\n",
        "\n",
        "Then we will use `beautifulsoup` to parse the resulting `html` and extract all the texts in the `<p>` tags."
      ]
    },
    {
      "cell_type": "code",
      "metadata": {
        "id": "1wbvXalK3BPk",
        "colab": {
          "base_uri": "https://localhost:8080/"
        },
        "outputId": "99a686ad-1365-4b0b-9dee-0250caca9e94"
      },
      "source": [
        "html=requests.get('https://soham96.github.io/2021/03/08/settlement-agreement/')\n",
        "\n",
        "soup = BeautifulSoup(html.content, 'html.parser')\n",
        "\n",
        "texts=[]\n",
        "for para in soup.find_all('p'):\n",
        "    print(para.text)\n",
        "    texts.append(para.text)"
      ],
      "execution_count": null,
      "outputs": [
        {
          "output_type": "stream",
          "text": [
            "In this Project, we try to change pronouns based on the person’s gender and preferred pronouns. We use Python and NLTK to do this. Below is an example of a legal document where a tool like this might be useful.\n",
            "FOR AND IN CONSIDERATION of the person stated Jane Doe and (i) the Judicial system of the state of Texas, and (ii) Public Works Department, and (iii) Public Judiciary Court System and (iv) Board of Public Members, enter into the following Agreement:\n",
            "Jane Doe is an engineer, in the electrical engineering department under the Public Works Department(PWD) from 19 March 2011 to 20th Feb 2021\n",
            "Jane Doe is a transgender man. Although she was assigned the female sex at birth, she asserts herself as male gender and deeply associates with it\n",
            "As part of her being employee, she wanted to apply for gender transforming surgery, which was denied under the Civil Acts 1930 and under her insurance plan, 1806056 Employee Health Records\n",
            "Jane Doe then filed a complaint in the District Court in the State of Texas Case Number 500090034. She alleges the denial of treatment on the basis of her gender which violates the gender equality and recognition law(identified as U7867790)\n",
            "Defendant and Respondent deny that they have violated any law regarding Ms Jane Doe\n",
            "The parties have agreed it is in their best interest to resolve the issue amongst themselves without any litigation. Therefore this Settlement Agreement is governed with the intent of resolving the matters between them and hence both parties will agree to the following:\n",
            "The Public Works Department will now recognise ane Doe as of the male gender and hence will settle all claims against Jane Doe regarding the validation and arising facts from the Recital above.\n",
            "In the interest of solving the issue, the state of Texas will now cover gender alerting surgeries that she needs under Public Employees Benefits Board Statewide Health Plan\n",
            "\n",
            "\n",
            "\n",
            "            Contact me at: \n",
            "            \n",
            "\n",
            "\n",
            "\n",
            "\n"
          ],
          "name": "stdout"
        }
      ]
    },
    {
      "cell_type": "markdown",
      "metadata": {
        "id": "ALs3KhKe9MX3"
      },
      "source": [
        "# Step 2: Creating Dictionaries of Replacements\n",
        "\n",
        "Creating such dictionaries might seem like we are hardcoding everything, but instead, it helps us to be more granular with how we want to replace pronouns. Additionally, it helps us adjust how pronouns are replaced based on the person's preferences."
      ]
    },
    {
      "cell_type": "code",
      "metadata": {
        "id": "A5dP0cgU7x9d",
        "colab": {
          "base_uri": "https://localhost:8080/"
        },
        "outputId": "ddf2d747-51c3-41c1-da3b-4b03b70c7aca"
      },
      "source": [
        "replacement_he_she={'he':'she', 'she':'he', 'his':'her', 'her':'his', \\\n",
        "                    'him':'her', 'herself':'himself', \\\n",
        "                    'himself':'herself', 'ms':'mr', 'mr':'ms'}\n",
        "replacement_they={'he':'they', 'she':'they', 'himself':'themself', \\\n",
        "                  'herself':'themself', 'him':'them', 'her':'them', \\\n",
        "                  'his':'them', 'hers':'theirs'}\n",
        "\n",
        "chosen_prn=input('Do you want to replace pronouns with He/She (1) or with They (2)')\n",
        "\n",
        "if chosen_prn=='1':\n",
        "    replacement_dict=replacement_he_she\n",
        "else:\n",
        "    replacement_dict=replacement_they"
      ],
      "execution_count": null,
      "outputs": [
        {
          "output_type": "stream",
          "text": [
            "Do you want to replace pronouns with He/She (1) or with They (2)1\n"
          ],
          "name": "stdout"
        }
      ]
    },
    {
      "cell_type": "markdown",
      "metadata": {
        "id": "468coU4k9_ln"
      },
      "source": [
        "# Step 3: PoS tagging and replacing\n",
        "\n",
        "Here we use NLTK's PoS tagger to tag a word as a pronoun or not. Once it is tagged as a pronoun, we can replace it based on our preferred replacement dictionary. "
      ]
    },
    {
      "cell_type": "code",
      "metadata": {
        "colab": {
          "base_uri": "https://localhost:8080/"
        },
        "id": "YmjoYJXk3zue",
        "outputId": "d7557128-c269-46f6-e568-18a0efec85a6"
      },
      "source": [
        "for t in texts:\n",
        "    t=t.split(' ') #splitting the sentence by words, returns a list\n",
        "    t=[i for i in t if i] #removing empty strings, returns a list\n",
        "    tagged_text=nltk.pos_tag(t) #tags a list-t with POS\n",
        "    #print(tagged_text)\n",
        "    sentence=[]\n",
        "    for word, tag in tagged_text:#iterate through all the tags\n",
        "        if tag=='PRP': #tag for pronoun\n",
        "            if word in replacement_dict.keys():\n",
        "                replacement=replacement_dict[word.lower()]\n",
        "            else:\n",
        "                replacement=word\n",
        "            if replacement[0].isupper():\n",
        "                replacement.title()\n",
        "            sentence.append(replacement)\n",
        "        else:\n",
        "            sentence.append(word) #keep the word the same\n",
        "    print(' '.join(sentence))"
      ],
      "execution_count": null,
      "outputs": [
        {
          "output_type": "stream",
          "text": [
            "In this Project, we try to change pronouns based on the person’s gender and preferred pronouns. We use Python and NLTK to do this. Below is an example of a legal document where a tool like this might be useful.\n",
            "FOR AND IN CONSIDERATION of the person stated Jane Doe and (i) the Judicial system of the state of Texas, and (ii) Public Works Department, and (iii) Public Judiciary Court System and (iv) Board of Public Members, enter into the following Agreement:\n",
            "Jane Doe is an engineer, in the electrical engineering department under the Public Works Department(PWD) from 19 March 2011 to 20th Feb 2021\n",
            "Jane Doe is a transgender man. Although he was assigned the female sex at birth, he asserts himself as male gender and deeply associates with it\n",
            "As part of her being employee, he wanted to apply for gender transforming surgery, which was denied under the Civil Acts 1930 and under her insurance plan, 1806056 Employee Health Records\n",
            "Jane Doe then filed a complaint in the District Court in the State of Texas Case Number 500090034. She alleges the denial of treatment on the basis of her gender which violates the gender equality and recognition law(identified as U7867790)\n",
            "Defendant and Respondent deny that they have violated any law regarding Ms Jane Doe\n",
            "The parties have agreed it is in their best interest to resolve the issue amongst themselves without any litigation. Therefore this Settlement Agreement is governed with the intent of resolving the matters between them and hence both parties will agree to the following:\n",
            "The Public Works Department will now recognise ane Doe as of the male gender and hence will settle all claims against Jane Doe regarding the validation and arising facts from the Recital above.\n",
            "In the interest of solving the issue, the state of Texas will now cover gender alerting surgeries that he needs under Public Employees Benefits Board Statewide Health Plan\n",
            "\n",
            "\n",
            "\n",
            " Contact me at: \n",
            " \n",
            "\n",
            "\n",
            "\n",
            "\n"
          ],
          "name": "stdout"
        }
      ]
    },
    {
      "cell_type": "markdown",
      "metadata": {
        "id": "w5Tt_MOB-bcV"
      },
      "source": [
        "# Future Plans\n",
        "- Use Co-Reference resolution to see whether a pronoun is refering to a person or a different person, or a thing and change genders based on that.\n",
        "- Convert this into a chrome extension"
      ]
    },
    {
      "cell_type": "code",
      "metadata": {
        "id": "gAKmnN_7NSYi"
      },
      "source": [
        ""
      ],
      "execution_count": null,
      "outputs": []
    }
  ]
}